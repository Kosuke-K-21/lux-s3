{
 "cells": [
  {
   "cell_type": "markdown",
   "metadata": {},
   "source": [
    "**方針**\n",
    "- マッチに勝利した方を抽出する\n",
    "- stepごとにaction -> observation -> action -> observation -> ... となる\n",
    "- 0step目のactionは1マッチ目は空でそれ以降は最後のaction, observationは1ステップ目は無でそれ以降は最後のobservation\n",
    "- 1step目のactionは全て-1, observationは初期状態\n",
    "- 最初の情報は使えるのか?"
   ]
  },
  {
   "cell_type": "code",
   "execution_count": 245,
   "metadata": {},
   "outputs": [],
   "source": [
    "import json\n",
    "import os\n",
    "import numpy as np\n",
    "import polars as pl"
   ]
  },
  {
   "cell_type": "code",
   "execution_count": 246,
   "metadata": {},
   "outputs": [],
   "source": [
    "DATA_REPLAY_DIR = os.path.join(\"..\", \"data\", \"match\", \"replay\")\n",
    "\n",
    "replay_files = os.listdir(DATA_REPLAY_DIR)\n",
    "\n",
    "\n",
    "def load_json(filename):\n",
    "    file_path = os.path.join(DATA_REPLAY_DIR, filename)\n",
    "    with open(file_path) as f:\n",
    "        return json.load(f)"
   ]
  },
  {
   "cell_type": "code",
   "execution_count": 247,
   "metadata": {},
   "outputs": [],
   "source": [
    "def get_winners(steps: dict) -> list:\n",
    "    winners = []\n",
    "\n",
    "    for i in range(101, 506, 101):\n",
    "        reward_0 = steps[i][0][\"reward\"]\n",
    "        prev_reward_0 = steps[i - 1][0][\"reward\"]\n",
    "        winner = 0 if reward_0 != prev_reward_0 else 1\n",
    "        winners.append(winner)\n",
    "\n",
    "    return winners\n",
    "\n",
    "\n",
    "def flip_coords(coords: list) -> list:\n",
    "    MAP_SIZE = 24\n",
    "    return [[MAP_SIZE - 1 - pos if pos >= 0 else pos for pos in coord] for coord in coords]\n",
    "\n",
    "\n",
    "def flip_map(map_data: list) -> list:\n",
    "    return [row[::-1] for row in map_data[::-1]]"
   ]
  },
  {
   "cell_type": "code",
   "execution_count": 248,
   "metadata": {},
   "outputs": [],
   "source": [
    "def create_dataframe_from_steps(steps: dict) -> pl.DataFrame:\n",
    "    NUM_STEPS_PER_MATCH = 100\n",
    "    winners = get_winners(steps)\n",
    "\n",
    "    step_data_list = []\n",
    "    relic_nodes_memory = json.loads(steps[0][0][\"observation\"][\"obs\"])[\"relic_nodes\"]\n",
    "\n",
    "    for i, winner in enumerate(winners):\n",
    "        enemy = 1 - winner\n",
    "        ind_start = i * NUM_STEPS_PER_MATCH + i + 1\n",
    "\n",
    "        for ind in range(ind_start, ind_start + NUM_STEPS_PER_MATCH):\n",
    "            obs = json.loads(steps[ind][winner][\"observation\"][\"obs\"])\n",
    "\n",
    "            units_positions = obs[\"units\"][\"position\"][winner]\n",
    "            enemy_units_positions = obs[\"units\"][\"position\"][enemy]\n",
    "            units_energy = obs[\"units\"][\"energy\"][winner]\n",
    "            enemy_units_energy = obs[\"units\"][\"energy\"][enemy]\n",
    "            sensor_mask = obs[\"sensor_mask\"]\n",
    "            tile_energy = obs[\"map_features\"][\"energy\"]\n",
    "            tile_type = obs[\"map_features\"][\"tile_type\"]\n",
    "\n",
    "            relic_nodes = obs[\"relic_nodes\"]\n",
    "            relic_nodes_memory = [\n",
    "                obs_node if obs_node[0] >= 0 else memory_node\n",
    "                for obs_node, memory_node in zip(relic_nodes, relic_nodes_memory)\n",
    "            ]\n",
    "\n",
    "            team_points = obs[\"team_points\"]\n",
    "            next_team_points = json.loads(steps[ind + 1][winner][\"observation\"][\"obs\"])[\"team_points\"]\n",
    "            team_rewards = [next_team_points[i] - team_points[i] for i in range(2)]\n",
    "\n",
    "            if winner == 1:\n",
    "                units_positions = flip_coords(units_positions)\n",
    "                enemy_units_positions = flip_coords(enemy_units_positions)\n",
    "                sensor_mask = flip_map(sensor_mask)\n",
    "                tile_energy = flip_map(tile_energy)\n",
    "                tile_type = flip_map(tile_type)\n",
    "                team_points = team_points[::-1]\n",
    "                team_rewards = team_rewards[::-1]\n",
    "\n",
    "            action = steps[ind + 1][winner][\"action\"]\n",
    "\n",
    "            step_data = {\n",
    "                \"units_positions\": units_positions,\n",
    "                \"enemy_units_positions\": enemy_units_positions,\n",
    "                \"units_energy\": units_energy,\n",
    "                \"enemy_units_energy\": enemy_units_energy,\n",
    "                \"sensor_mask\": sensor_mask,\n",
    "                \"tile_energy\": tile_energy,\n",
    "                \"tile_type\": tile_type,\n",
    "                \"relic_nodes\": relic_nodes_memory if winner == 0 else flip_coords(relic_nodes_memory),\n",
    "                \"team_points\": team_points,\n",
    "                \"team_rewards\": team_rewards,\n",
    "                \"action\": action,\n",
    "            }\n",
    "\n",
    "            step_data_list.append(step_data)\n",
    "\n",
    "    df = pl.DataFrame(step_data_list)\n",
    "\n",
    "    df = df.with_columns(\n",
    "        pl.col(\"units_positions\").cast(pl.List(pl.List(pl.Int8))),\n",
    "        pl.col(\"enemy_units_positions\").cast(pl.List(pl.List(pl.Int8))),\n",
    "        pl.col(\"units_energy\").cast(pl.List(pl.Int16)),\n",
    "        pl.col(\"enemy_units_energy\").cast(pl.List(pl.Int16)),\n",
    "        pl.col(\"tile_energy\").cast(pl.List(pl.List(pl.Int16))),\n",
    "        pl.col(\"tile_type\").cast(pl.List(pl.List(pl.Int8))),\n",
    "        pl.col(\"relic_nodes\").cast(pl.List(pl.List(pl.Int8))),\n",
    "        pl.col(\"team_points\").cast(pl.List(pl.Int16)),\n",
    "        pl.col(\"team_rewards\").cast(pl.List(pl.Int16)),\n",
    "        pl.col(\"action\").cast(pl.List(pl.List(pl.Int8))),\n",
    "    )\n",
    "\n",
    "    return df"
   ]
  },
  {
   "cell_type": "code",
   "execution_count": 249,
   "metadata": {},
   "outputs": [],
   "source": [
    "df = None\n",
    "for replay_file in replay_files:\n",
    "    replay = load_json(replay_file)\n",
    "    steps = replay[\"steps\"]\n",
    "    if len(steps) < 506:\n",
    "        print(f\"Skipping {replay_file} because it has only {len(steps)} steps\")\n",
    "        continue\n",
    "\n",
    "    tmp_df = create_dataframe_from_steps(steps)\n",
    "    if df is None:\n",
    "        df = tmp_df\n",
    "    else:\n",
    "        df = df.vstack(tmp_df)"
   ]
  },
  {
   "cell_type": "code",
   "execution_count": 250,
   "metadata": {},
   "outputs": [],
   "source": [
    "df.write_parquet(\"../data/preprocessed/train.parquet\")"
   ]
  },
  {
   "cell_type": "code",
   "execution_count": 251,
   "metadata": {},
   "outputs": [],
   "source": [
    "df = pl.read_parquet(\"../data/preprocessed/train.parquet\")"
   ]
  }
 ],
 "metadata": {
  "kernelspec": {
   "display_name": ".venv",
   "language": "python",
   "name": "python3"
  },
  "language_info": {
   "codemirror_mode": {
    "name": "ipython",
    "version": 3
   },
   "file_extension": ".py",
   "mimetype": "text/x-python",
   "name": "python",
   "nbconvert_exporter": "python",
   "pygments_lexer": "ipython3",
   "version": "3.13.0"
  }
 },
 "nbformat": 4,
 "nbformat_minor": 2
}
