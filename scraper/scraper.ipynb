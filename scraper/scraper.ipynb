{
 "cells": [
  {
   "cell_type": "code",
   "execution_count": 1,
   "metadata": {},
   "outputs": [],
   "source": [
    "import pandas as pd\n",
    "import numpy as np\n",
    "import os\n",
    "import requests\n",
    "import json\n",
    "import datetime\n",
    "import time\n",
    "import glob\n",
    "import collections\n",
    "import polars as pl "
   ]
  },
  {
   "cell_type": "code",
   "execution_count": 2,
   "metadata": {},
   "outputs": [],
   "source": [
    "COMP = 'lux-ai-season-3'\n",
    "MAX_CALLS_PER_DAY = 100 # Kaggle says don't do more than 3600 per day and 1 per second\n",
    "LOWEST_SCORE_THRESH = 1600\n",
    "\n",
    "ROOT =\"../working/\"\n",
    "META = \"../data/meta/raw/\"\n",
    "MATCH_DIR = '../working/'\n",
    "base_url = \"https://www.kaggle.com/api/i/competitions.EpisodeService/\"\n",
    "\n",
    "get_url = base_url + \"GetEpisodeReplay\"\n",
    "BUFFER = 1\n",
    "COMPETITIONS = {\n",
    "    'lux-ai-season-3' : 86411,\n",
    "    'lux-ai-2022': 45040,\n",
    "    'kore-2022': 34419,\n",
    "    'lux-ai-2021': 30067,\n",
    "    'hungry-geese': 25401,\n",
    "    'rock-paper-scissors': 22838,\n",
    "    'santa-2020': 24539,\n",
    "    'halite': 18011,\n",
    "    'google-football': 21723,\n",
    "}"
   ]
  },
  {
   "cell_type": "code",
   "execution_count": 3,
   "metadata": {},
   "outputs": [
    {
     "name": "stdout",
     "output_type": "stream",
     "text": [
      "Episodes.csv: 37839 rows after filtering for lux-ai-season-3.\n"
     ]
    }
   ],
   "source": [
    "episodes_df = pl.read_csv(META + \"Episodes.csv\")\n",
    "episodes_df = episodes_df.filter(pl.col('CompetitionId')==COMPETITIONS[COMP]) \n",
    "print(f'Episodes.csv: {len(episodes_df)} rows after filtering for {COMP}.')"
   ]
  },
  {
   "cell_type": "code",
   "execution_count": 11,
   "metadata": {},
   "outputs": [
    {
     "name": "stderr",
     "output_type": "stream",
     "text": [
      "/var/folders/sn/rz8jym41349byvrhqn7h0rsr0000gn/T/ipykernel_33617/1327591740.py:1: DeprecationWarning: The argument `dtypes` for `read_csv` is deprecated. It has been renamed to `schema_overrides`.\n",
      "  epagents_df = pl.read_csv(META + \"EpisodeAgents.csv\", dtypes={'Reward':pl.Float32})\n"
     ]
    },
    {
     "name": "stdout",
     "output_type": "stream",
     "text": [
      "EpisodeAgents.csv: 75650 rows after filtering for lux-ai-season-3.\n"
     ]
    }
   ],
   "source": [
    "epagents_df = pl.read_csv(META + \"EpisodeAgents.csv\", dtypes={'Reward':pl.Float32})\n",
    "unique_comp_ids = pl.Series(episodes_df.select(pl.col(\"Id\").unique())).to_list()\n",
    "epagents_df = epagents_df.filter(pl.col(\"EpisodeId\").is_in(unique_comp_ids))\n",
    "\n",
    "print(f'EpisodeAgents.csv: {len(epagents_df)} rows after filtering for {COMP}.')"
   ]
  },
  {
   "cell_type": "code",
   "execution_count": 13,
   "metadata": {},
   "outputs": [
    {
     "data": {
      "text/html": [
       "<div><style>\n",
       ".dataframe > thead > tr,\n",
       ".dataframe > tbody > tr {\n",
       "  text-align: right;\n",
       "  white-space: pre-wrap;\n",
       "}\n",
       "</style>\n",
       "<small>shape: (5, 5)</small><table border=\"1\" class=\"dataframe\"><thead><tr><th>Id</th><th>Type</th><th>CompetitionId</th><th>CreateTime</th><th>EndTime</th></tr><tr><td>i64</td><td>i64</td><td>i64</td><td>str</td><td>str</td></tr></thead><tbody><tr><td>58076100</td><td>4</td><td>86411</td><td>&quot;12/09/2024 19:50:26&quot;</td><td>&quot;12/09/2024 19:53:03&quot;</td></tr><tr><td>58078323</td><td>4</td><td>86411</td><td>&quot;12/09/2024 20:18:13&quot;</td><td>&quot;12/09/2024 20:20:45&quot;</td></tr><tr><td>58078642</td><td>4</td><td>86411</td><td>&quot;12/09/2024 20:22:44&quot;</td><td>&quot;12/09/2024 20:25:14&quot;</td></tr><tr><td>58079278</td><td>1</td><td>86411</td><td>&quot;12/09/2024 20:28:05&quot;</td><td>&quot;12/09/2024 20:30:37&quot;</td></tr><tr><td>58079282</td><td>4</td><td>86411</td><td>&quot;12/09/2024 20:31:23&quot;</td><td>&quot;12/09/2024 20:33:59&quot;</td></tr></tbody></table></div>"
      ],
      "text/plain": [
       "shape: (5, 5)\n",
       "┌──────────┬──────┬───────────────┬─────────────────────┬─────────────────────┐\n",
       "│ Id       ┆ Type ┆ CompetitionId ┆ CreateTime          ┆ EndTime             │\n",
       "│ ---      ┆ ---  ┆ ---           ┆ ---                 ┆ ---                 │\n",
       "│ i64      ┆ i64  ┆ i64           ┆ str                 ┆ str                 │\n",
       "╞══════════╪══════╪═══════════════╪═════════════════════╪═════════════════════╡\n",
       "│ 58076100 ┆ 4    ┆ 86411         ┆ 12/09/2024 19:50:26 ┆ 12/09/2024 19:53:03 │\n",
       "│ 58078323 ┆ 4    ┆ 86411         ┆ 12/09/2024 20:18:13 ┆ 12/09/2024 20:20:45 │\n",
       "│ 58078642 ┆ 4    ┆ 86411         ┆ 12/09/2024 20:22:44 ┆ 12/09/2024 20:25:14 │\n",
       "│ 58079278 ┆ 1    ┆ 86411         ┆ 12/09/2024 20:28:05 ┆ 12/09/2024 20:30:37 │\n",
       "│ 58079282 ┆ 4    ┆ 86411         ┆ 12/09/2024 20:31:23 ┆ 12/09/2024 20:33:59 │\n",
       "└──────────┴──────┴───────────────┴─────────────────────┴─────────────────────┘"
      ]
     },
     "execution_count": 13,
     "metadata": {},
     "output_type": "execute_result"
    }
   ],
   "source": [
    "episodes_df.head()"
   ]
  },
  {
   "cell_type": "code",
   "execution_count": 14,
   "metadata": {},
   "outputs": [
    {
     "ename": "AttributeError",
     "evalue": "'DataFrame' object has no attribute 'with_column'",
     "output_type": "error",
     "traceback": [
      "\u001b[0;31m---------------------------------------------------------------------------\u001b[0m",
      "\u001b[0;31mAttributeError\u001b[0m                            Traceback (most recent call last)",
      "Cell \u001b[0;32mIn[14], line 2\u001b[0m\n\u001b[1;32m      1\u001b[0m \u001b[38;5;66;03m# preprocess\u001b[39;00m\n\u001b[0;32m----> 2\u001b[0m episodes_df \u001b[38;5;241m=\u001b[39m \u001b[43mepisodes_df\u001b[49m\u001b[38;5;241;43m.\u001b[39;49m\u001b[43mwith_column\u001b[49m(pl\u001b[38;5;241m.\u001b[39mcol(\u001b[38;5;124m\"\u001b[39m\u001b[38;5;124mCreateTime\u001b[39m\u001b[38;5;124m\"\u001b[39m)\u001b[38;5;241m.\u001b[39mcast(pl\u001b[38;5;241m.\u001b[39mDate64))\n",
      "\u001b[0;31mAttributeError\u001b[0m: 'DataFrame' object has no attribute 'with_column'"
     ]
    }
   ],
   "source": [
    "# preprocess\n",
    "episodes_df = episodes_df.with_column(pl.col(\"CreateTime\").cast(pl.Date64))"
   ]
  }
 ],
 "metadata": {
  "kernelspec": {
   "display_name": ".venv",
   "language": "python",
   "name": "python3"
  },
  "language_info": {
   "codemirror_mode": {
    "name": "ipython",
    "version": 3
   },
   "file_extension": ".py",
   "mimetype": "text/x-python",
   "name": "python",
   "nbconvert_exporter": "python",
   "pygments_lexer": "ipython3",
   "version": "3.13.0"
  }
 },
 "nbformat": 4,
 "nbformat_minor": 2
}
